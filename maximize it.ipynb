{
 "cells": [
  {
   "cell_type": "markdown",
   "metadata": {},
   "source": [
    "You are given a function f(X)=X^2.\n",
    "\n",
    "You are also given K lists. The list consists of Ni elements.\n",
    "\n",
    "You have to pick exactly one element from each list so that the equation below is maximized:\n",
    "\n",
    "S=(f(X1)+f(X2)+...+f(Xk))%M\n",
    "\n",
    "Xi denotes the element picked from the ith list . Find the maximized value Smax obtained.\n",
    "\n",
    "% denotes the modulo operator."
   ]
  },
  {
   "cell_type": "code",
   "execution_count": 70,
   "metadata": {},
   "outputs": [
    {
     "name": "stdout",
     "output_type": "stream",
     "text": [
      "1 384\n",
      "5 899954391 390010037 470009874 789620942 589990574\n",
      "324\n"
     ]
    }
   ],
   "source": [
    "import itertools\n",
    "def square(X):\n",
    "    return X*X\n",
    "  \n",
    "\n",
    "def solution():\n",
    "    \n",
    "    K, M = map(int, input().split(' '))\n",
    "    L = []\n",
    "    for i in range(K):\n",
    "        l = list(map(int, input().split(' ')))\n",
    "        n = l[0]\n",
    "        lt = l[1:]\n",
    "        L.append(lt)\n",
    "        assert len(L[i]) == n\n",
    " \n",
    "    S_max = 0\n",
    "    for p in itertools.product(*L):\n",
    "        s = sum([square(x) for x in p]) % M\n",
    "        \n",
    "        if s > S_max:\n",
    "            S_max = s\n",
    "            \n",
    "    return S_max\n",
    "            \n",
    "\n",
    "print(solution())"
   ]
  },
  {
   "cell_type": "code",
   "execution_count": 44,
   "metadata": {},
   "outputs": [
    {
     "name": "stdout",
     "output_type": "stream",
     "text": [
      "1 2 3\n"
     ]
    }
   ],
   "source": [
    "L = list(map(int, input().split(' ')[1:]))"
   ]
  },
  {
   "cell_type": "code",
   "execution_count": 45,
   "metadata": {},
   "outputs": [
    {
     "name": "stdout",
     "output_type": "stream",
     "text": [
      "2\n",
      "3\n"
     ]
    }
   ],
   "source": [
    "for i in L:\n",
    "    print(i)"
   ]
  },
  {
   "cell_type": "code",
   "execution_count": 58,
   "metadata": {},
   "outputs": [],
   "source": [
    "L = [[1,3], [4,5], [1,2]]"
   ]
  },
  {
   "cell_type": "code",
   "execution_count": 59,
   "metadata": {},
   "outputs": [],
   "source": [
    "import itertools"
   ]
  },
  {
   "cell_type": "code",
   "execution_count": 60,
   "metadata": {},
   "outputs": [
    {
     "name": "stdout",
     "output_type": "stream",
     "text": [
      "(1, 4, 1)\n",
      "(1, 4, 2)\n",
      "(1, 5, 1)\n",
      "(1, 5, 2)\n",
      "(3, 4, 1)\n",
      "(3, 4, 2)\n",
      "(3, 5, 1)\n",
      "(3, 5, 2)\n"
     ]
    }
   ],
   "source": [
    "for i in itertools.product(*L):\n",
    "    print(i)"
   ]
  },
  {
   "cell_type": "code",
   "execution_count": 67,
   "metadata": {},
   "outputs": [
    {
     "name": "stdout",
     "output_type": "stream",
     "text": [
      "[1, 3] [4, 5] [1, 2]\n"
     ]
    }
   ],
   "source": [
    "print(*L)"
   ]
  },
  {
   "cell_type": "code",
   "execution_count": null,
   "metadata": {},
   "outputs": [],
   "source": []
  }
 ],
 "metadata": {
  "kernelspec": {
   "display_name": "Python 3",
   "language": "python",
   "name": "python3"
  },
  "language_info": {
   "codemirror_mode": {
    "name": "ipython",
    "version": 3
   },
   "file_extension": ".py",
   "mimetype": "text/x-python",
   "name": "python",
   "nbconvert_exporter": "python",
   "pygments_lexer": "ipython3",
   "version": "3.8.5"
  }
 },
 "nbformat": 4,
 "nbformat_minor": 4
}
